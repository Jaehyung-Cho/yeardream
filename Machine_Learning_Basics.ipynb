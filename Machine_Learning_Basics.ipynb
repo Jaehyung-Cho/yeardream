{
  "nbformat": 4,
  "nbformat_minor": 0,
  "metadata": {
    "colab": {
      "name": "Machine_Learning_Basics.ipynb",
      "provenance": [],
      "collapsed_sections": [],
      "authorship_tag": "ABX9TyOfExqmTKjAJYjHmgvepUqu",
      "include_colab_link": true
    },
    "kernelspec": {
      "name": "python3",
      "display_name": "Python 3"
    },
    "language_info": {
      "name": "python"
    }
  },
  "cells": [
    {
      "cell_type": "markdown",
      "metadata": {
        "id": "view-in-github",
        "colab_type": "text"
      },
      "source": [
        "<a href=\"https://colab.research.google.com/github/Jaehyung-Cho/yeardream/blob/main/Machine_Learning_Basics.ipynb\" target=\"_parent\"><img src=\"https://colab.research.google.com/assets/colab-badge.svg\" alt=\"Open In Colab\"/></a>"
      ]
    },
    {
      "cell_type": "markdown",
      "source": [
        "# Machine Learning"
      ],
      "metadata": {
        "id": "V_Y7eNuqclTT"
      }
    },
    {
      "cell_type": "markdown",
      "source": [
        "> 머신러닝이란?\n",
        "\n",
        "* Experience로 Task를 수행하여 Performance로 평가  \n",
        "우리의 목표는 그런 Task를 찾는 것!  \n",
        "x -f-> y로 보내주는 f를 x, y의 데이터로 찾기 : Kaggle은 Task(대회문제)를 얼마나 잘 수행했는가 Performance(채점 기준)\n",
        "\n",
        "* 컴퓨터에게 학습이란?  \n",
        "컴퓨터에게 데이터를 바라보는 방법(Model)과 예시(Data)를 주면 판단 내리는 기준(f)을 찾아가는 것\n",
        "\n",
        "* 머신러닝의 목표  \n",
        "Prediction for Unseen Data  \n",
        "    1. Train data / Test data\n",
        "    2. Overfitting\n",
        "    3. Generalization"
      ],
      "metadata": {
        "id": "KtFXUJtxZVVS"
      }
    },
    {
      "cell_type": "markdown",
      "source": [
        "# Machine Learning Workflow"
      ],
      "metadata": {
        "id": "mja4p8qJcET2"
      }
    },
    {
      "cell_type": "markdown",
      "source": [
        "* Module 1 : 데이터 정의 & ML 문제 정의\n",
        "* Module 2 : 데이터 정형화\n",
        "* Module 3 : EDA\n",
        "* Module 4 : Feature Engineering, 전처리\n",
        "* Module 5 : ML modeling\n",
        "\n",
        "-> Workflow를 마친 후 평가를 한 뒤에 빠른 피드백 및 수정을 하는 것이 중요"
      ],
      "metadata": {
        "id": "xDj_2ihZcIkM"
      }
    },
    {
      "cell_type": "markdown",
      "source": [
        "# Machine Learning Model : Regression"
      ],
      "metadata": {
        "id": "T_O6t5HfeXQh"
      }
    },
    {
      "cell_type": "markdown",
      "source": [
        "> Regression Analysis\n",
        "\n",
        "* Estimating relationships between  \n",
        "    * dependent variable(y, scalar / real value, target value 우리가 관심있는 값)\n",
        "    * one or more independent variables(X, m-dimensional vector / feature vector)  \n",
        "X -f-> y"
      ],
      "metadata": {
        "id": "qjBBLBepecbd"
      }
    },
    {
      "cell_type": "markdown",
      "source": [
        "## Types of Regression"
      ],
      "metadata": {
        "id": "GyHGTvtKi-f3"
      }
    },
    {
      "cell_type": "markdown",
      "source": [
        "1. Linear Regression  \n",
        "$X = (x1, ..., xm)$에 대해  \n",
        "$f : y = w_1x_1 + .. + w_mx_m + c$ 으로 나타내어지는 경우 ($w_i$ = weight, $c$ = constant, 상수항이 있어야 자유도가 증가함)\n",
        "* MSE (Mean Squared Error)  \n",
        "$L = \\frac{\\sum_{i}^n (y_i-y_î)^2}{N}$ : Loss Function\n",
        "\n",
        "    이 경우 L은 $w_i$의 2차 함수이기 때문에 극소($\\tilde{w_i}$)를 찾을 수 있음\n",
        "\n",
        "* Ideal case  \n",
        "    $P_{train}$, $P_{test}$ 고루 좋은 경우\n",
        "    $P_{train}$은 좋지만 $P_{test}$는 나쁜 경우 Overfitting -> 학습에 규제를 추가 ex) Lasso, Ridge model\n",
        "\n",
        "2. LightGBM Regressor (Gradient Boosting Model)  \n",
        "대용량 데이터에 대해 빠르고, 성능 좋은 모델  \n",
        "여러 Decision tree 중 target value를 잘 찾는 tree만 찾아서 해당 방향으로 확장하는 모델  \n",
        "* 실전 데이터 분석에서 가장 많이 사용함\n",
        "* Hyper-parameter(학습 모델)에 영향을 많이 받아 parameter tuning이 중요  \n",
        "추후 오픈소스 라이브러리(ex. optuna)에 맡길 예정, AutoML\n",
        "* Decision Tree(CART) -> Random Forest -> GBM -> XGBoost -> **LightGBM** -> **CatBoost**"
      ],
      "metadata": {
        "id": "3kbj2eBcjCll"
      }
    },
    {
      "cell_type": "markdown",
      "source": [
        "> 회귀모델의 평가\n",
        "\n",
        "* **예측 성능**을 기준으로 함  \n",
        "정량적 기준을 설정하고, 달성할 때 까지 모델을 학습시킴\n",
        "\n",
        "1. MSE\n",
        "2. RMSLE (Root Mean Squared Log Error)  \n",
        "$√\\frac{\\sum_{i}^n (log(y_i)-log(y_î))^2}{N}$  \n",
        "    * $y_i$, $y_î$ 영향을 안 받음  \n",
        "    * Outlier robustness\n",
        "3. MAE (Mean Absolute Error)  \n",
        "$\\frac{\\sum_{i}^n |y_i-y_î|}{N}$\n",
        "4. $R^2$ Score (Coefficient of Determination)  \n",
        "$R^2 = 1 - \\frac{SSE}{SST} = 1 - \\frac{MSE}{Variance} = 1 - \\frac{\\sum_{i}^n (y_i-\\hat{y_i)}^2}{\\sum_{i}^n (y_i-\\bar{y_i)}^2}$  \n",
        "MSE와 Variance의 비 = 최적의 regression과 최악의 regression(평균)간의 비율  \n",
        "P.S. Variance  \n",
        "$\\frac{\\sum_{i}^n (y_i-\\bar{y_i)}^2}{N}$"
      ],
      "metadata": {
        "id": "4HJ8LjBGMdj_"
      }
    },
    {
      "cell_type": "markdown",
      "source": [
        "# 실습 / Scikit Learn"
      ],
      "metadata": {
        "id": "rVdf-vo4Ydb9"
      }
    },
    {
      "cell_type": "markdown",
      "source": [
        "## Data Loading"
      ],
      "metadata": {
        "id": "HSfTX81OhAmY"
      }
    },
    {
      "cell_type": "code",
      "source": [
        "# !pip install sklearn # scikit-learn, MOOC에 영상 올라와있으니 참고하면 좋습니다!\n",
        "# Colab에는 설치되어있어 따로 설치하지 않아도 됨\n",
        "import numpy as np\n",
        "import pandas as pd\n",
        "import matplotlib.pyplot as plt\n",
        "import seaborn as sns"
      ],
      "metadata": {
        "id": "4viqnsSKYgJX"
      },
      "execution_count": null,
      "outputs": []
    },
    {
      "cell_type": "code",
      "source": [
        "from sklearn.datasets import fetch_california_housing\n",
        "\n",
        "X = fetch_california_housing(as_frame = True).data # as_frame = True 설정 시 df로 자료를 받아옴, X를 가져옴(Data)"
      ],
      "metadata": {
        "id": "fjWcaNyiZpqE"
      },
      "execution_count": null,
      "outputs": []
    },
    {
      "cell_type": "code",
      "source": [
        "y = fetch_california_housing(as_frame = True).target # y를 가져옴 (target)\n",
        "fetch_california_housing(as_frame = True).frame # X, y 모두 가져옴\n",
        "\n",
        "print(X.shape, y.shape)"
      ],
      "metadata": {
        "colab": {
          "base_uri": "https://localhost:8080/"
        },
        "id": "v3Yl5Sl9fu1o",
        "outputId": "f2634ff0-4626-4aed-ab64-16983190309d"
      },
      "execution_count": null,
      "outputs": [
        {
          "output_type": "stream",
          "name": "stdout",
          "text": [
            "(20640, 8) (20640,)\n"
          ]
        }
      ]
    },
    {
      "cell_type": "markdown",
      "source": [
        "## Data Processing / EDA"
      ],
      "metadata": {
        "id": "HqBpTG-chFR3"
      }
    },
    {
      "cell_type": "code",
      "source": [
        "# 결측치 및 dtype 확인\n",
        "X.info()\n",
        "# X[X.isnull().any(axis = 1)] # 결측치가 하나라도 있는 자료를 불러오기"
      ],
      "metadata": {
        "colab": {
          "base_uri": "https://localhost:8080/"
        },
        "id": "9ijT_Dm4g73g",
        "outputId": "cddc17ba-fc21-40f9-b150-3c8c65eeb537"
      },
      "execution_count": null,
      "outputs": [
        {
          "output_type": "stream",
          "name": "stdout",
          "text": [
            "<class 'pandas.core.frame.DataFrame'>\n",
            "RangeIndex: 20640 entries, 0 to 20639\n",
            "Data columns (total 8 columns):\n",
            " #   Column      Non-Null Count  Dtype  \n",
            "---  ------      --------------  -----  \n",
            " 0   MedInc      20640 non-null  float64\n",
            " 1   HouseAge    20640 non-null  float64\n",
            " 2   AveRooms    20640 non-null  float64\n",
            " 3   AveBedrms   20640 non-null  float64\n",
            " 4   Population  20640 non-null  float64\n",
            " 5   AveOccup    20640 non-null  float64\n",
            " 6   Latitude    20640 non-null  float64\n",
            " 7   Longitude   20640 non-null  float64\n",
            "dtypes: float64(8)\n",
            "memory usage: 1.3 MB\n"
          ]
        }
      ]
    },
    {
      "cell_type": "code",
      "source": [
        "# Distribution 확인\n",
        "plt.figure(figsize = (12, 8))\n",
        "sns.histplot(y)\n",
        "plt.show()\n",
        "# 5 이상의 값들은 clamping되어 5 값을 가지는 친구들이 많음"
      ],
      "metadata": {
        "colab": {
          "base_uri": "https://localhost:8080/",
          "height": 497
        },
        "id": "WxL1h-tEhTTB",
        "outputId": "c62a8496-44a8-4974-8a83-33decd178577"
      },
      "execution_count": null,
      "outputs": [
        {
          "output_type": "display_data",
          "data": {
            "text/plain": [
              "<Figure size 864x576 with 1 Axes>"
            ],
            "image/png": "[encoded data removed]"
          },
          "metadata": {
            "needs_background": "light"
          }
        }
      ]
    },
    {
      "cell_type": "markdown",
      "source": [
        "## 본격적인 Training 시작!"
      ],
      "metadata": {
        "id": "yBI_VyoNkS3F"
      }
    },
    {
      "cell_type": "markdown",
      "source": [
        "> Train, Test dataset 분리"
      ],
      "metadata": {
        "id": "4oLtNuj6l2NG"
      }
    },
    {
      "cell_type": "code",
      "source": [
        "# Train-test split\n",
        "from sklearn.model_selection import train_test_split\n",
        "\n",
        "# train_test_split()의 반환값은 트테트테**\n",
        "X_train, X_test, y_train, y_test = train_test_split(X, y, test_size = 0.2, random_state = 42) # 순서가 트레이닝에 영향을 미칠 수 있기 때문, 아무 숫자나 쓰셈, state 고정되면 set도 고정됨\n",
        "X_train\n",
        "print(X_train.shape, X_test.shape, y_train.shape, y_test.shape)"
      ],
      "metadata": {
        "colab": {
          "base_uri": "https://localhost:8080/"
        },
        "id": "6-6c_VFnh7m2",
        "outputId": "445b91b5-5d03-4411-e1e1-eb6f2ee8c5e3"
      },
      "execution_count": null,
      "outputs": [
        {
          "output_type": "stream",
          "name": "stdout",
          "text": [
            "(16512, 8) (4128, 8) (16512,) (4128,)\n"
          ]
        }
      ]
    },
    {
      "cell_type": "markdown",
      "source": [
        "> Training"
      ],
      "metadata": {
        "id": "aL5Vykapl6eT"
      }
    },
    {
      "cell_type": "code",
      "source": [
        "# Training (Fitting)\n",
        "# 1. 사용할 함수 설정\n",
        "from sklearn.linear_model import LinearRegression\n",
        "from lightgbm.sklearn import LGBMRegressor\n",
        "\n",
        "# 2. 사용할 함수의 객체 생성\n",
        "reg = LinearRegression()\n",
        "reg2 = LGBMRegressor()\n",
        "\n",
        "# 3. 학습\n",
        "reg.fit(X_train, y_train) # Regression은 Supervised learning이므로 y 넣는거 잊지 말자!\n",
        "reg2.fit(X_train, y_train)"
      ],
      "metadata": {
        "colab": {
          "base_uri": "https://localhost:8080/"
        },
        "id": "g5-G-UojjtXR",
        "outputId": "f5192dfa-97fb-47f5-a80b-f953dba6c869"
      },
      "execution_count": null,
      "outputs": [
        {
          "output_type": "execute_result",
          "data": {
            "text/plain": [
              "LGBMRegressor()"
            ]
          },
          "metadata": {},
          "execution_count": 13
        }
      ]
    },
    {
      "cell_type": "markdown",
      "source": [
        "> Evaluation"
      ],
      "metadata": {
        "id": "rbaFxp5Ml8EX"
      }
    },
    {
      "cell_type": "code",
      "source": [
        "from sklearn.metrics import mean_squared_error, r2_score\n",
        "\n",
        "pred = reg.predict(X_train) # y_hat을 반환\n",
        "print('Linear Regression')\n",
        "print('MSE : %.4f' % mean_squared_error(y_train, pred)) # 보통 실제값, 예측값 순서로 입력\n",
        "print('R2 : %.4f' % r2_score(y_train, pred))\n",
        "\n",
        "pred2 = reg2.predict(X_train) # y_hat을 반환\n",
        "print('LightGBM')\n",
        "print('MSE : %.4f' % mean_squared_error(y_train, pred2)) # 보통 실제값, 예측값 순서로 입력\n",
        "print('R2 : %.4f' % r2_score(y_train, pred2))"
      ],
      "metadata": {
        "colab": {
          "base_uri": "https://localhost:8080/"
        },
        "id": "csEDEsk9lyZ1",
        "outputId": "0f8207f0-ed00-4801-869e-b533879f7fe6"
      },
      "execution_count": null,
      "outputs": [
        {
          "output_type": "stream",
          "name": "stdout",
          "text": [
            "Linear Regression\n",
            "MSE : 0.5179\n",
            "R2 : 0.6126\n",
            "LightGBM\n",
            "MSE : 0.1562\n",
            "R2 : 0.8831\n"
          ]
        }
      ]
    },
    {
      "cell_type": "markdown",
      "source": [
        "> Prediction"
      ],
      "metadata": {
        "id": "ALzoRiYcnIdL"
      }
    },
    {
      "cell_type": "code",
      "source": [
        "result = reg.predict(X_test)\n",
        "print('Linear Regression')\n",
        "print('MSE : %.4f' % mean_squared_error(y_test, result)) # 보통 실제값, 예측값 순서로 입력\n",
        "print('R2 : %.4f' % r2_score(y_test, result))\n",
        "\n",
        "pred2 = reg2.predict(X_test) # y_hat을 반환\n",
        "print('LightGBM')\n",
        "print('MSE : %.4f' % mean_squared_error(y_test, pred2)) # 보통 실제값, 예측값 순서로 입력\n",
        "print('R2 : %.4f' % r2_score(y_test, pred2))"
      ],
      "metadata": {
        "colab": {
          "base_uri": "https://localhost:8080/"
        },
        "id": "X3tdyrfxm22n",
        "outputId": "a31cb8ae-aadd-41cb-eb3b-d440af95560e"
      },
      "execution_count": null,
      "outputs": [
        {
          "output_type": "stream",
          "name": "stdout",
          "text": [
            "Linear Regression\n",
            "MSE : 0.5559\n",
            "R2 : 0.5758\n",
            "LightGBM\n",
            "MSE : 0.2148\n",
            "R2 : 0.8360\n"
          ]
        }
      ]
    },
    {
      "cell_type": "markdown",
      "source": [
        "## Boston"
      ],
      "metadata": {
        "id": "7TLtn8wJyEo5"
      }
    },
    {
      "cell_type": "code",
      "source": [
        "from sklearn.dataset import load_boston\n",
        "\n",
        "X, y = load_boston(X_y = True)\n",
        "train_X, test_X, train_y, test_y = train_test_split(X, y, test_size = 0.2, random_state = 42)\n",
        "\n",
        "model = LinearRegresssion()\n",
        "model.fit(train_X, train_y)\n",
        "\n",
        "predicted = model.predict(test_X)"
      ],
      "metadata": {
        "id": "G7kxnA__nWRt"
      },
      "execution_count": null,
      "outputs": []
    },
    {
      "cell_type": "markdown",
      "source": [
        "# 지도학습 / 비지도학습"
      ],
      "metadata": {
        "id": "V20jTCCH1vBj"
      }
    },
    {
      "cell_type": "markdown",
      "source": [
        "## 프로세스"
      ],
      "metadata": {
        "id": "grrrqmiN3R9Y"
      }
    },
    {
      "cell_type": "markdown",
      "source": [
        "1. 문제 정의\n",
        "2. 데이터 수집\n",
        "3. 데이터 탐색\n",
        "4. 데이터 전처리\n",
        "5. 모델링\n",
        "6. 모델평가 -> 2로 돌아가서 개선 (2~6 반복)\n",
        "7. 결과보고서 작성"
      ],
      "metadata": {
        "id": "RNKd1Q-F3WWL"
      }
    },
    {
      "cell_type": "markdown",
      "source": [
        "## 학습의 종류"
      ],
      "metadata": {
        "id": "0aB8mcou3NrU"
      }
    },
    {
      "cell_type": "markdown",
      "source": [
        "> 데이터에 따라 적절한 model 사용 필요  \n",
        "ML 사용할 필요가 없는 경우파악도 필요 (통계 모델, EDA, A/B test 등)\n",
        "\n",
        "* 지도학습  \n",
        "    y값이 존재함\n",
        "    * 예측 (Regression) : 종속변수가 연속형\n",
        "\n",
        "* 비지도학습  \n",
        "    y값이 존재 X, 일상생활에서 더 자주 마주함\n",
        "    * 군집화 (Clustering) : 종속변수가 범주형\n",
        "    * Dimensionality Reduction : X의 중요 정보 추출\n",
        "    * 연관규칙분석 (Association Rule Analysis) : 종속변수가 스코어 or 샘플\n",
        "\n",
        "* 준지도학습  \n",
        "    * 종속 변수가 label이 있는 것도, 없는 것도 존재\n",
        "    * 군집화, 지도학습을 순차적으로 적용\n",
        "\n",
        "* 강화 학습\n",
        "    행동의 대상(Agent)과 환경(Environment) 사이의 상호작용을 통해 목표 최대화 하는 방법(Reward Maximization)\n",
        "    * Real-time decisions : Reaction 하면서 최적화가 필요한 방법\n",
        "    * Game AI\n",
        "\n",
        "P.S. self-supervised learning  \n",
        "* 모델이 학습하면서 레이블을 직접 만듬"
      ],
      "metadata": {
        "id": "mYq0DZNN1xsQ"
      }
    },
    {
      "cell_type": "markdown",
      "source": [
        "## Data Split"
      ],
      "metadata": {
        "id": "4jCmHtUIeGL6"
      }
    },
    {
      "cell_type": "markdown",
      "source": [
        "> Train-Test Split\n",
        "\n",
        "* 목표 : 족보에 안 나온 실제 기말에서 100점 맞기 (**Prediction for Unseen** data)\n",
        "1. 8년치 공부 및 오답 후 2년치 시험 전날에 풀기  \n",
        "Train - Test\n",
        "2. 6년치 공부 및 오답 후 2년치로 점수 확인, 2년치 시험 전날에 풀기  \n",
        "Train - Validation - Test\n"
      ],
      "metadata": {
        "id": "VkDAPg0neEUR"
      }
    },
    {
      "cell_type": "markdown",
      "source": [
        "## Training"
      ],
      "metadata": {
        "id": "0VmK5qt-qhMd"
      }
    },
    {
      "cell_type": "markdown",
      "source": [
        "*  Training  \n",
        "반복할수록 성능의 개선이 있어야 함 (학습 O)  \n",
        "Parameter의 결정\n",
        "\n",
        "* Inference  \n",
        "학습된 모델과 test data 필요  \n",
        "Paramter 결정 X  \n",
        "모델의 평가가 이루어짐"
      ],
      "metadata": {
        "id": "GUxmT0bRqjAp"
      }
    },
    {
      "cell_type": "markdown",
      "source": [
        "## Feature Engineering"
      ],
      "metadata": {
        "id": "MoC1jjIyyKj2"
      }
    },
    {
      "cell_type": "markdown",
      "source": [
        ""
      ],
      "metadata": {
        "id": "QNmhfV70yNHI"
      }
    },
    {
      "cell_type": "code",
      "source": [
        ""
      ],
      "metadata": {
        "id": "harqCR2RL2_3"
      },
      "execution_count": null,
      "outputs": []
    }
  ]
}