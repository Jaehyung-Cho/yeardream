{
  "nbformat": 4,
  "nbformat_minor": 0,
  "metadata": {
    "colab": {
      "name": "신고결과받기.ipynb",
      "provenance": [],
      "collapsed_sections": [],
      "authorship_tag": "ABX9TyOCHIIa2wY/WCLNFu4g7cRo",
      "include_colab_link": true
    },
    "kernelspec": {
      "name": "python3",
      "display_name": "Python 3"
    },
    "language_info": {
      "name": "python"
    }
  },
  "cells": [
    {
      "cell_type": "markdown",
      "metadata": {
        "id": "view-in-github",
        "colab_type": "text"
      },
      "source": [
        "<a href=\"https://colab.research.google.com/github/Jaehyung-Cho/yeardream/blob/main/%EC%8B%A0%EA%B3%A0%EA%B2%B0%EA%B3%BC%EB%B0%9B%EA%B8%B0.ipynb\" target=\"_parent\"><img src=\"https://colab.research.google.com/assets/colab-badge.svg\" alt=\"Open In Colab\"/></a>"
      ]
    },
    {
      "cell_type": "code",
      "execution_count": null,
      "metadata": {
        "id": "EWBEXeNXGPAi"
      },
      "outputs": [],
      "source": [
        "def solution(id_list, report, k):\n",
        "    reported_who = {} # 신고한 사람 기록\n",
        "    reported_num = {} # 신고 횟수 기록\n",
        "    \n",
        "    for id in id_list: # 초기화\n",
        "        reported_who[id] = []\n",
        "        reported_num[id] = 0\n",
        "        \n",
        "    for rep in report: # 기록\n",
        "        reporter, bad_guy = rep.split()\n",
        "        \n",
        "        if bad_guy not in reported_who[reporter]:\n",
        "            reported_who[reporter].append(bad_guy)\n",
        "            reported_num[bad_guy] += 1\n",
        "            \n",
        "    villain = set()\n",
        "    \n",
        "    for id in reported_num: # 신고 횟수가 k 이상인 사람을 villain에 저장\n",
        "        if reported_num[id] >= k:\n",
        "            villain.add(id)\n",
        "            \n",
        "    answer = []\n",
        "    \n",
        "    for id in id_list: # 결과값 반환\n",
        "        count = 0\n",
        "        for person in reported_who[id]:\n",
        "            if person in villain:\n",
        "                count += 1\n",
        "                \n",
        "        answer.append(count)\n",
        "        \n",
        "    return answer"
      ]
    }
  ]
}